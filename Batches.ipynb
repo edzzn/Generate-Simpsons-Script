{
 "cells": [
  {
   "cell_type": "code",
   "execution_count": 1,
   "metadata": {
    "collapsed": true
   },
   "outputs": [],
   "source": [
    "import numpy as np"
   ]
  },
  {
   "cell_type": "code",
   "execution_count": 37,
   "metadata": {},
   "outputs": [
    {
     "name": "stdout",
     "output_type": "stream",
     "text": [
      "[1, 2, 3, 4, 5, 6, 7, 8, 9, 10, 11, 12, 13, 14, 15, 16, 17, 18, 19, 20]\n",
      "[1, 2, 3, 4, 5, 6, 7, 8, 9, 10, 11, 12, 13, 14, 15, 16, 17, 18]\n",
      "[ 1  2  3  4  5  6  7  8  9 10 11 12 13 14 15 16 17 18]\n"
     ]
    }
   ],
   "source": [
    "int_text = [x for x in range(1, 21)]\n",
    "\n",
    "batch_size, seq_length = 3,2\n",
    "print(int_text)\n",
    "\n",
    "characters_per_batch = batch_size * seq_length\n",
    "n_batches = len(int_text) // characters_per_batch\n",
    "\n",
    "# Drop non-complete batches\n",
    "int_text = int_text[:n_batches * characters_per_batch]\n",
    "print(int_text)\n",
    "\n",
    "#transform int_text to a numpy.array\n",
    "int_text = np.array(int_text)\n",
    "print(int_text)"
   ]
  },
  {
   "cell_type": "code",
   "execution_count": 38,
   "metadata": {},
   "outputs": [
    {
     "name": "stdout",
     "output_type": "stream",
     "text": [
      "(3, 6)\n",
      "[[ 1  2  3  4  5  6]\n",
      " [ 7  8  9 10 11 12]\n",
      " [13 14 15 16 17 18]]\n"
     ]
    }
   ],
   "source": [
    "# Reshape into n_seqs rows\n",
    "int_text = int_text.reshape(batch_size,-1)\n",
    "print(int_text.shape)\n",
    "print(int_text)"
   ]
  },
  {
   "cell_type": "code",
   "execution_count": 39,
   "metadata": {
    "scrolled": true
   },
   "outputs": [],
   "source": [
    "int_text = np.split(int_text, n_batches, 1)\n",
    "int_text = np.array(int_text)"
   ]
  },
  {
   "cell_type": "code",
   "execution_count": 40,
   "metadata": {},
   "outputs": [
    {
     "name": "stdout",
     "output_type": "stream",
     "text": [
      "<class 'numpy.ndarray'>\n"
     ]
    }
   ],
   "source": [
    "print(type(int_text))"
   ]
  },
  {
   "cell_type": "code",
   "execution_count": 41,
   "metadata": {},
   "outputs": [
    {
     "name": "stdout",
     "output_type": "stream",
     "text": [
      "[[[ 1  2]\n",
      "  [ 7  8]\n",
      "  [13 14]]\n",
      "\n",
      " [[ 3  4]\n",
      "  [ 9 10]\n",
      "  [15 16]]\n",
      "\n",
      " [[ 5  6]\n",
      "  [11 12]\n",
      "  [17 18]]]\n"
     ]
    }
   ],
   "source": [
    "print(int_text)"
   ]
  },
  {
   "cell_type": "code",
   "execution_count": null,
   "metadata": {
    "collapsed": true
   },
   "outputs": [],
   "source": [
    "# [[[ 1  2]\n",
    "#   [ 7  8]\n",
    "#   [13 14]]\n",
    "\n",
    "#  [[ 3  4]\n",
    "#   [ 9 10]\n",
    "#   [15 16]]\n",
    "\n",
    "#  [[ 5  6]\n",
    "#   [11 12]\n",
    "#   [17 18]]]"
   ]
  }
 ],
 "metadata": {
  "kernelspec": {
   "display_name": "Python 3",
   "language": "python",
   "name": "python3"
  },
  "language_info": {
   "codemirror_mode": {
    "name": "ipython",
    "version": 3
   },
   "file_extension": ".py",
   "mimetype": "text/x-python",
   "name": "python",
   "nbconvert_exporter": "python",
   "pygments_lexer": "ipython3",
   "version": "3.6.2"
  }
 },
 "nbformat": 4,
 "nbformat_minor": 2
}
